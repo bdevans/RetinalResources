{
 "cells": [
  {
   "cell_type": "code",
   "execution_count": null,
   "metadata": {},
   "outputs": [],
   "source": [
    "import numpy as np\n",
    "import matplotlib.pyplot as plt\n",
    "import keras.backend as K\n",
    "%matplotlib inline"
   ]
  },
  {
   "cell_type": "code",
   "execution_count": null,
   "metadata": {},
   "outputs": [],
   "source": [
    "def deprocess_image(x):\n",
    "    # normalize tensor: center on 0., ensure std is 0.1\n",
    "    x -= x.mean()\n",
    "    if (x.std() > 1e-5):\n",
    "        x /= (x.std() + 1e-5)\n",
    "    x *= 0.1\n",
    "\n",
    "    # clip to [0, 1]\n",
    "    x += 0.5\n",
    "    x = np.clip(x, 0, 1)\n",
    "\n",
    "    # convert to RGB array\n",
    "    x *= 255\n",
    "    if K.image_data_format() == 'channels_first':\n",
    "        x = x.transpose((1, 2, 0))\n",
    "    x = np.clip(x, 0, 255).astype('uint8')\n",
    "    return x"
   ]
  },
  {
   "cell_type": "code",
   "execution_count": null,
   "metadata": {},
   "outputs": [],
   "source": [
    "#Outputs std of RF approximations across different random initializations\n",
    "#Higher value indicates more \"complex\" cells (in the sense of simple vs. complex cells in V1)\n",
    "\n",
    "brain_layers = 2\n",
    "retina_width = 1\n",
    "\n",
    "import os\n",
    "noise_start = 0.0\n",
    "noise_end = 0.0\n",
    "retina_out_weight_reg = 0.0\n",
    "retina_out_stride = 1\n",
    "retina_hidden_channels = 32\n",
    "task = 'classification'\n",
    "filter_size = 9\n",
    "retina_layers = 2\n",
    "use_b = 1\n",
    "actreg = 0.0\n",
    "vvs_width = 32\n",
    "epochs = 20\n",
    "reg = 0.0\n",
    "num_trials = 10\n",
    "load_dir = os.path.join(os.getcwd(), 'saved_filters')\n",
    "retina_out_width = 1\n",
    "vvs_layers = 2\n",
    "\n",
    "results_dict = {}\n",
    "for layer_name in ['retina_2', 'vvs_1', 'vvs_2']:\n",
    "  layer_result = []\n",
    "  for trial in range(1, 1+num_trials):\n",
    "    trial_result = {}\n",
    "    for random_init in range(0, 10):\n",
    "        trial_label = 'Trial'+str(trial)\n",
    "\n",
    "        model_name = 'cifar10_type_'+trial_label+'_noise_start_'+str(noise_start)+'_noise_end_'+str(noise_end)+'_reg_'+str(reg)+'_retina_reg_'+str(retina_out_weight_reg)+'_retina_hidden_channels_'+str(retina_hidden_channels)+'_SS_'+str(retina_out_stride)+'_task_'+task+'_filter_size_'+str(filter_size)+'_retina_layers_'+str(retina_layers)+'_vvs_layers'+str(vvs_layers)+'_bias_'+str(use_b)+'_actreg_'+str(actreg)+'_retina_out_channels_'+str(retina_out_width)+'_vvs_width_'+str(vvs_width)+'_epochs_'+str(epochs)\n",
    "        model_name = 'SAVED'+'_'+model_name\n",
    "        filename = 'RI'+str(random_init)+'_'+model_name+'_'+str(layer_name)+'.npy'\n",
    "        file_path = os.path.join(load_dir, filename)\n",
    "        RFs = np.load(file_path)\n",
    "        for filt in range(RFs.shape[0]):\n",
    "            if np.max(RFs[filt]) - np.min(RFs[filt]) > 1e-4:\n",
    "                RFs[filt] = deprocess_image(RFs[filt]) / 255.0\n",
    "                if filt not in trial_result.keys():\n",
    "                    trial_result[filt] = []\n",
    "                trial_result[filt].append(RFs[filt].flatten())\n",
    "    trial_avg_std = []\n",
    "    for filt in range(RFs.shape[0]):\n",
    "        if filt in trial_result.keys():\n",
    "            trial_result_filt = np.array(trial_result[filt])\n",
    "            trial_result_filt_std = np.mean(np.std(trial_result_filt, axis=0))\n",
    "            layer_result.append(trial_result_filt_std)\n",
    "  results_dict[layer_name] = np.array(layer_result)\n",
    "        \n",
    "for layer in ['retina_2', 'vvs_1', 'vvs_2']:\n",
    "    layer_result = results_dict[layer].flatten()\n",
    "    print(layer, np.mean(layer_result), 'plus or minus', 1.96 * np.std(layer_result) / np.sqrt(len(layer_result)))\n"
   ]
  },
  {
   "cell_type": "code",
   "execution_count": null,
   "metadata": {},
   "outputs": [],
   "source": []
  }
 ],
 "metadata": {
  "kernelspec": {
   "display_name": "Python 3",
   "language": "python",
   "name": "python3"
  },
  "language_info": {
   "codemirror_mode": {
    "name": "ipython",
    "version": 3
   },
   "file_extension": ".py",
   "mimetype": "text/x-python",
   "name": "python",
   "nbconvert_exporter": "python",
   "pygments_lexer": "ipython3",
   "version": "3.6.8"
  }
 },
 "nbformat": 4,
 "nbformat_minor": 2
}
