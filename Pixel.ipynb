{
 "cells": [
  {
   "cell_type": "markdown",
   "metadata": {},
   "source": [
    "# Trains models with specified parameter settings, saved trained models"
   ]
  },
  {
   "cell_type": "code",
   "execution_count": null,
   "metadata": {},
   "outputs": [],
   "source": [
    "retina_width_options = [1, 32]\n",
    "vvs_layers_options = [0, 2, 4]\n",
    "num_trials = 10\n",
    "data_set = 'pixel'\n",
    "noise_types = ['Original', 'Salt-and-pepper', 'Additive', 'Single-pixel']\n",
    "test_conditions = ['Same', 'Diff', 'NoPix']\n",
    "fresh_data = 0\n",
    "data_augmentation = 0\n",
    "pretrain = 1\n",
    "n_gpus = 1"
   ]
  },
  {
   "cell_type": "code",
   "execution_count": null,
   "metadata": {},
   "outputs": [],
   "source": [
    "import os\n",
    "from tqdm import tqdm_notebook\n",
    "\n",
    "if pretrain:\n",
    "    pretrain_data_set = 'cifar10'\n",
    "    trial_label = 'PRETRAIN'\n",
    "    print(\"Pretraining model!\")\n",
    "    for vvs_layers in tqdm_notebook(vvs_layers_options, desc=\"VVS Layers\", leave=True):\n",
    "        for retina_out_width in tqdm_notebook(retina_width_options, desc=\"Retina Out Width\", leave=False):\n",
    "            pretrain_model_name = f\"{pretrain_data_set}_{trial_label}_vvs_layers={vvs_layers}_retina_out_channels={retina_out_width}\"\n",
    "            args = (f\"--data_set {data_set} --trial_label {trial_label} \"\n",
    "                f\"--vvs_layers {vvs_layers} --retina_out_width {retina_out_width} \"\n",
    "        #         f\"--data_augmentation {data_augmentation} --fresh_data {fresh_data} \"\n",
    "                f\"--model_name {pretrain_model_name}\")\n",
    "            os.system(f'python3 TrainModel.py {args}')"
   ]
  },
  {
   "cell_type": "code",
   "execution_count": null,
   "metadata": {},
   "outputs": [],
   "source": [
    "import os\n",
    "from tqdm import tqdm_notebook\n",
    "\n",
    "start_trial = 1\n",
    "\n",
    "for trial in tqdm_notebook(range(start_trial, 1+num_trials), desc='Trial'):\n",
    "    for noise_type in tqdm_notebook(noise_types, desc='Noise type', leave=True):\n",
    "        trial_label = f\"{noise_type}_{trial}\"\n",
    "        for vvs_layers in tqdm_notebook(vvs_layers_options, desc=\"VVS Layers\", leave=True):\n",
    "            for retina_out_width in tqdm_notebook(retina_width_options, desc=\"Retina Out Width\", leave=True):\n",
    "                model_name = f\"{data_set}_{trial_label}_vvs_layers={vvs_layers}_retina_out_channels={retina_out_width}\"\n",
    "                args = (f\"--data_set {data_set} --trial_label {trial_label} \"\n",
    "                        f\"--vvs_layers {vvs_layers} --retina_out_width {retina_out_width} \"\n",
    "                        f\"--data_augmentation {data_augmentation} --fresh_data {fresh_data} \"\n",
    "                        f\"--n_gpus {n_gpus} --model_name {model_name}\")\n",
    "                if pretrain:\n",
    "                    pretrain_data_set = 'cifar10'\n",
    "                    pretrain_model_name = f\"{pretrain_data_set}_PRETRAIN_vvs_layers={vvs_layers}_retina_out_channels={retina_out_width}\"\n",
    "                    args += f\" --pretrained_model {pretrain_model_name}\"\n",
    "                os.system(f'python3 TrainModel.py {args}')"
   ]
  },
  {
   "cell_type": "code",
   "execution_count": null,
   "metadata": {},
   "outputs": [],
   "source": [
    "# Load accuracy scores and plot\n",
    "\n",
    "%matplotlib inline\n",
    "import json\n",
    "import pandas as pd\n",
    "import numpy as np\n",
    "from matplotlib import pyplot as plt\n",
    "import seaborn as sns\n",
    "\n",
    "# Defaults\n",
    "# filter_size = 9\n",
    "# retina_layers = 2\n",
    "# vvs_width = 32\n",
    "n_epochs = 20\n",
    "\n",
    "rows = []\n",
    "test_rows = []\n",
    "\n",
    "for trial in range(1, 1+num_trials):\n",
    "    for noise_type in noise_types:\n",
    "        trial_label = f\"{noise_type}_{trial}\"\n",
    "        for vvs_layers in vvs_layers_options:\n",
    "            for retina_out_width in retina_width_options:\n",
    "\n",
    "                model_name = f\"{data_set}_{trial_label}_vvs_layers={vvs_layers}_retina_out_channels={retina_out_width}\"\n",
    "\n",
    "                acc_scores = np.load(os.path.join('Logs', f'{model_name}_ACC.npy'))\n",
    "                valacc_scores = np.load(os.path.join('Logs', f'{model_name}_VALACC.npy'))\n",
    "                loss = np.load(os.path.join('Logs', f'{model_name}_LOSS.npy'))\n",
    "                valloss = np.load(os.path.join('Logs', f'{model_name}_VALLOSS.npy'))\n",
    "\n",
    "                with open(os.path.join('Logs', f'{model_name}_CONDVALACC.json'), \"r\") as jf:\n",
    "                    cond_acc = json.load(jf)\n",
    "                with open(os.path.join('Logs', f'{model_name}_CONDVALLOSS.json'), \"r\") as jf:\n",
    "                    cond_loss = json.load(jf)\n",
    "\n",
    "                for condition in test_conditions:\n",
    "                    test_rows.append({'Trial': trial, 'Noise Type': noise_type,\n",
    "                                     'VVS Layers': vvs_layers, 'Retina Out Width': retina_out_width,\n",
    "                                     'Condition': condition, 'Loss': cond_loss[condition], \n",
    "                                      'Accuracy': cond_acc[condition]})\n",
    "                for epoch in range(n_epochs):\n",
    "                    rows.append({'Trial': trial, 'Noise Type': noise_type, #'Noise Condition': noise_cond, \n",
    "                                 'VVS Layers': vvs_layers, 'Retina Out Width': retina_out_width,\n",
    "                                 'Evaluation': 'Testing', 'Epoch': epoch+1, 'Loss': valloss[epoch], \n",
    "                                 'Accuracy': valacc_scores[epoch]})\n",
    "\n",
    "                    rows.append({'Trial': trial, 'Noise Type': noise_type, #'Noise Condition': noise_cond, \n",
    "                                 'VVS Layers': vvs_layers, 'Retina Out Width': retina_out_width,\n",
    "                                 'Evaluation': 'Training', 'Epoch': epoch+1, 'Loss': loss[epoch], \n",
    "                                 'Accuracy': acc_scores[epoch]})\n",
    "\n",
    "scores = pd.DataFrame(rows, columns=['Trial', 'Noise Type', 'VVS Layers', 'Retina Out Width', \n",
    "                                     'Evaluation', 'Epoch', 'Loss', 'Accuracy'])\n",
    "test_scores = pd.DataFrame(test_rows, columns=['Trial', 'Noise Type', 'VVS Layers', 'Retina Out Width', \n",
    "                                             'Condition', 'Loss', 'Accuracy'])\n",
    "# scores\n",
    "# test_scores"
   ]
  },
  {
   "cell_type": "code",
   "execution_count": null,
   "metadata": {},
   "outputs": [],
   "source": [
    "# fig = plt.figure()\n",
    "g = sns.relplot(x='Epoch', y='Accuracy', style='Retina Out Width', hue='Evaluation', row='VVS Layers', col='Noise Type', kind='line', data=scores)\n",
    "# g = sns.relplot(x='Epoch', y='Loss', style='Retina Out Width', hue='Evaluation', row='VVS Layers', col='Noise Type', kind='line', data=scores)"
   ]
  },
  {
   "cell_type": "code",
   "execution_count": null,
   "metadata": {},
   "outputs": [],
   "source": [
    "fig = plt.figure(figsize=(18,6))\n",
    "g = sns.catplot(x=\"Condition\", y=\"Accuracy\", hue=\"Retina Out Width\", row=\"VVS Layers\", col=\"Noise Type\", kind=\"bar\", data=test_scores)\n",
    "# g = sns.catplot(x=\"Condition\", y=\"Loss\", hue=\"Retina Out Width\", row=\"VVS Layers\", col=\"Noise Type\", kind=\"bar\", data=test_scores)"
   ]
  },
  {
   "cell_type": "code",
   "execution_count": null,
   "metadata": {},
   "outputs": [],
   "source": []
  },
  {
   "cell_type": "code",
   "execution_count": null,
   "metadata": {},
   "outputs": [],
   "source": [
    "metrics = ['Loss', 'Accuracy']\n",
    "fig, axes = plt.subplots(nrows=len(metrics), ncols=len(noise_types), sharex=True, sharey='row', figsize=(16,8))\n",
    "for t, noise_type in enumerate(noise_types):\n",
    "    for m, metric in enumerate(metrics):\n",
    "        sns.lineplot(x='Epoch', y=metric, hue='Evaluation', style='Retina Out Width', data=scores[(scores['Noise Type'] == noise_type)], ax=axes[m, t])#.query(f\"'Noise Type' == '{noise_type}' and 'Noise Condition' == '{noise_cond}'\"))\n",
    "        if m == 0:\n",
    "            axes[m, t].set_title(noise_type)\n",
    "        axes[m, t].set_ylabel(metric)"
   ]
  },
  {
   "cell_type": "code",
   "execution_count": null,
   "metadata": {},
   "outputs": [],
   "source": [
    "metrics = ['Loss', 'Accuracy']\n",
    "fig, axes = plt.subplots(nrows=len(vvs_layers_options), ncols=len(noise_types), sharex=True, sharey='row', figsize=(16,12))\n",
    "for t, noise_type in enumerate(noise_types):\n",
    "    for v, layers in enumerate(vvs_layers_options):\n",
    "        sns.lineplot(x='Epoch', y='Accuracy', hue='Evaluation', style='Retina Out Width', \n",
    "                     data=scores[(scores['Noise Type'] == noise_type) & (scores['VVS Layers'] == layers)], ax=axes[v, t])\n",
    "        if v == 0:\n",
    "            axes[v, t].set_title(noise_type)\n",
    "        axes[v, t].set_ylabel(f'VVS Layers = {layers}')"
   ]
  },
  {
   "cell_type": "markdown",
   "metadata": {},
   "source": [
    "# Plot Receptive Fields"
   ]
  },
  {
   "cell_type": "code",
   "execution_count": null,
   "metadata": {},
   "outputs": [],
   "source": [
    "import os\n",
    "\n",
    "import numpy as np\n",
    "from tqdm import tqdm_notebook\n",
    "\n",
    "plot_layers = ['retina_2', 'vvs_1']\n",
    "start_trial = 1\n",
    "end_trial = 10\n",
    "\n",
    "# vvs_layers = 4\n",
    "# layer = 'retina_2'\n",
    "\n",
    "for trial in tqdm_notebook(range(start_trial, 1+end_trial), desc='Trial'):\n",
    "    for noise_type in tqdm_notebook(noise_types, desc='Noise type', leave=True):\n",
    "        trial_label = f\"{noise_type}_{trial}\"\n",
    "        for vvs_layers in tqdm_notebook(vvs_layers_options, desc=\"VVS Layers\", leave=True):\n",
    "\n",
    "            for retina_out_width in tqdm_notebook(retina_width_options, desc=\"Retina Out Width\", leave=True):\n",
    "                model_name = f\"{data_set}_{trial_label}_vvs_layers={vvs_layers}_retina_out_channels={retina_out_width}\"\n",
    "                for layer in plot_layers:\n",
    "                    if layer == 'vvs_1' and vvs_layers == 0:\n",
    "                        continue\n",
    "                    args = (f\"--data_set {data_set} --trial_label {trial_label} \"\n",
    "                            f\"--vvs_layers {vvs_layers} --retina_out_width {retina_out_width} \"\n",
    "                            f\"--layer_name {layer} --model_name {model_name}\")\n",
    "                    os.system(f'python3 VisualizeRFs.py {args}')"
   ]
  },
  {
   "cell_type": "markdown",
   "metadata": {},
   "source": [
    "# Plot Performance on original stimuli"
   ]
  },
  {
   "cell_type": "code",
   "execution_count": null,
   "metadata": {},
   "outputs": [],
   "source": [
    "retina_width_options = [1, 32]  # [1, 2, 4, 8, 16, 32]\n",
    "vvs_layers_options = [0, 1, 2, 3, 4]\n",
    "num_trials = 1  # 10\n",
    "data_set = 'cifar10'"
   ]
  },
  {
   "cell_type": "code",
   "execution_count": null,
   "metadata": {},
   "outputs": [],
   "source": [
    "import os\n",
    "from tqdm import tqdm_notebook\n",
    "\n",
    "for trial in tqdm_notebook(range(1, num_trials+1), desc=\"Trial\"):\n",
    "    trial_label = 'Trial'+str(trial)\n",
    "    for vvs_layers in tqdm_notebook(vvs_layers_options, desc=\"VVS Layers\"):\n",
    "        for retina_out_width in tqdm_notebook(retina_width_options, desc=\"Retina Out Width\", leave=False):\n",
    "#             print('Trial ', trial, 'VVS Layers ', vvs_layers, 'Retina Out Width ', retina_out_width)\n",
    "            args = (f\"--trial_label {trial_label} --vvs_layers {vvs_layers} --retina_out_width {retina_out_width}\")\n",
    "            os.system(f\"python3 TrainModel.py {args}\")"
   ]
  },
  {
   "cell_type": "code",
   "execution_count": null,
   "metadata": {},
   "outputs": [],
   "source": [
    "import numpy as np\n",
    "import matplotlib.pyplot as plt\n",
    "\n",
    "plot_line_format_list = []\n",
    "plot_line_format_list.append(('k', '-'))\n",
    "plot_line_format_list.append(([.5, .5, .5], '--'))\n",
    "\n",
    "dict = {}\n",
    "dict_err = {}\n",
    "\n",
    "cur_format = -1\n",
    "\n",
    "for retina_out_width in retina_width_options:\n",
    "    cur_format += 1\n",
    "    dict[retina_out_width] = []\n",
    "    dict_err[retina_out_width] = []\n",
    "\n",
    "    for vvs_layers in vvs_layers_options:\n",
    "        trials = []\n",
    "        for trial in range(1, num_trials+1):\n",
    "            trial_label = 'Trial'+str(trial)\n",
    "\n",
    "            model_name = (\n",
    "                f\"{data_set}_type_{trial_label}_filter_size_{filter_size}\"\n",
    "                f\"_retina_layers_{retina_layers}_vvs_layers{vvs_layers}\"\n",
    "                f\"_retina_out_channels_{retina_out_width}_vvs_width_{vvs_width}\"\n",
    "                f\"_epochs_{n_epochs}\"\n",
    "            )\n",
    "\n",
    "#             acc = np.load(os.path.join('Logs', f'SAVED_{model_name}_ACC.npy'))[-1]\n",
    "            val_acc = np.load(os.path.join('Logs', f'SAVED_{model_name}_VALACC.npy'))[-1]\n",
    "#             val_acc = np.load('Logs/SAVED_cifar10_type_'+trial_label+'_noise_start_'+str(0.0)+'_noise_end_'+str(0.0)+'_reg_'+str(0.0)+'_retina_reg_'+str(0.0)+'_retina_hidden_channels_'+str(32)+'_SS_'+str(1)+'_task_'+'classification'+'_filter_size_'+str(9)+'_retina_layers_'+str(2)+'_vvs_layers'+str(vvs_layers)+'_bias_'+str(1)+'_actreg_'+str(0.0)+'_retina_out_channels_'+str(retina_out_width)+'_vvs_width_'+str(32)+'_epochs_'+str(20)+'_VALACC.npy')[-1]\n",
    "            trials.append(val_acc)\n",
    "\n",
    "        dict[retina_out_width].append(np.mean(trials))\n",
    "        dict_err[retina_out_width].append(np.std(trials))\n",
    "        print(trials)\n",
    "\n",
    "plt.figure(figsize=(4, 8))\n",
    "for retina_out_width in retina_width_options:\n",
    "    if retina_out_width == 1:\n",
    "        plt.errorbar(range(len(vvs_layers_options)), dict[retina_out_width], dict_err[retina_out_width], c='k', marker='o')\n",
    "    elif retina_out_width == 32:\n",
    "        plt.errorbar(range(len(vvs_layers_options)), dict[retina_out_width], dict_err[retina_out_width], c='gray', marker='o')\n",
    "    else:\n",
    "        plt.errorbar(range(len(vvs_layers_options)), dict[retina_out_width], dict_err[retina_out_width], marker='o')\n",
    "\n",
    "\n",
    "plt.legend([str(w)+' retina output channels' for w in retina_width_options])\n",
    "plt.xlabel('VVS-net Layers')\n",
    "plt.ylabel('Cifar-10 Test Set Performance')\n",
    "plt.xticks(range(len(vvs_layers_options)), vvs_layers_options)\n",
    "\n",
    "plt.show()"
   ]
  }
 ],
 "metadata": {
  "kernelspec": {
   "display_name": "Python 3",
   "language": "python",
   "name": "python3"
  },
  "language_info": {
   "codemirror_mode": {
    "name": "ipython",
    "version": 3
   },
   "file_extension": ".py",
   "mimetype": "text/x-python",
   "name": "python",
   "nbconvert_exporter": "python",
   "pygments_lexer": "ipython3",
   "version": "3.6.8"
  }
 },
 "nbformat": 4,
 "nbformat_minor": 2
}
