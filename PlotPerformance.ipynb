{
 "cells": [
  {
   "cell_type": "code",
   "execution_count": 1,
   "metadata": {},
   "outputs": [],
   "source": [
    "retina_width_options = [1, 2, 4, 8, 16, 32]\n",
    "vvs_layers_options = [0, 1, 2, 3, 4]\n",
    "num_trials = 10"
   ]
  },
  {
   "cell_type": "code",
   "execution_count": 2,
   "metadata": {},
   "outputs": [
    {
     "name": "stdout",
     "output_type": "stream",
     "text": [
      "Trial  1 VVS Layers  0 Retina Out Width  1\n",
      "Trial  1 VVS Layers  0 Retina Out Width  32\n",
      "Trial  1 VVS Layers  2 Retina Out Width  1\n",
      "Trial  1 VVS Layers  2 Retina Out Width  32\n",
      "Trial  1 VVS Layers  4 Retina Out Width  1\n",
      "Trial  1 VVS Layers  4 Retina Out Width  32\n",
      "Trial  2 VVS Layers  0 Retina Out Width  1\n",
      "Trial  2 VVS Layers  0 Retina Out Width  32\n",
      "Trial  2 VVS Layers  2 Retina Out Width  1\n",
      "Trial  2 VVS Layers  2 Retina Out Width  32\n",
      "Trial  2 VVS Layers  4 Retina Out Width  1\n",
      "Trial  2 VVS Layers  4 Retina Out Width  32\n"
     ]
    }
   ],
   "source": [
    "import os\n",
    "\n",
    "for trial in range(1, 3):\n",
    "    trial_label = 'Trial'+str(trial)\n",
    "    for vvs_layers in [0, 2, 4]:\n",
    "        for retina_out_width in [1, 32]:\n",
    "            print('Trial ', trial, 'VVS Layers ', vvs_layers, 'Retina Out Width ', retina_out_width)\n",
    "            os.system('python3 TrainModel.py --trial_label '+trial_label+' --vvs_layers '+str(vvs_layers)+' --retina_out_width '+str(retina_out_width))"
   ]
  },
  {
   "cell_type": "code",
   "execution_count": 4,
   "metadata": {},
   "outputs": [
    {
     "name": "stdout",
     "output_type": "stream",
     "text": [
      "[0.4881, 0.4914, 0.4859, 0.4829, 0.4481, 0.49, 0.4937, 0.4865, 0.5073, 0.4854]\n"
     ]
    },
    {
     "ename": "FileNotFoundError",
     "evalue": "[Errno 2] No such file or directory: 'Logs/SAVED_cifar10_type_Trial1_noise_start_0.0_noise_end_0.0_reg_0.0_retina_reg_0.0_retina_hidden_channels_32_SS_1_task_classification_filter_size_9_retina_layers_2_vvs_layers1_bias_1_actreg_0.0_retina_out_channels_1_vvs_width_32_epochs_20_VALACC.npy'",
     "output_type": "error",
     "traceback": [
      "\u001b[0;31m---------------------------------------------------------------------------\u001b[0m",
      "\u001b[0;31mFileNotFoundError\u001b[0m                         Traceback (most recent call last)",
      "\u001b[0;32m<ipython-input-4-46632f4ab5ad>\u001b[0m in \u001b[0;36m<module>\u001b[0;34m\u001b[0m\n\u001b[1;32m     20\u001b[0m         \u001b[0;32mfor\u001b[0m \u001b[0mtrial\u001b[0m \u001b[0;32min\u001b[0m \u001b[0mrange\u001b[0m\u001b[0;34m(\u001b[0m\u001b[0;36m1\u001b[0m\u001b[0;34m,\u001b[0m \u001b[0mnum_trials\u001b[0m\u001b[0;34m+\u001b[0m\u001b[0;36m1\u001b[0m\u001b[0;34m)\u001b[0m\u001b[0;34m:\u001b[0m\u001b[0;34m\u001b[0m\u001b[0m\n\u001b[1;32m     21\u001b[0m             \u001b[0mtrial_label\u001b[0m \u001b[0;34m=\u001b[0m \u001b[0;34m'Trial'\u001b[0m\u001b[0;34m+\u001b[0m\u001b[0mstr\u001b[0m\u001b[0;34m(\u001b[0m\u001b[0mtrial\u001b[0m\u001b[0;34m)\u001b[0m\u001b[0;34m\u001b[0m\u001b[0m\n\u001b[0;32m---> 22\u001b[0;31m             \u001b[0mval_acc\u001b[0m \u001b[0;34m=\u001b[0m \u001b[0mnp\u001b[0m\u001b[0;34m.\u001b[0m\u001b[0mload\u001b[0m\u001b[0;34m(\u001b[0m\u001b[0;34m'Logs/SAVED_cifar10_type_'\u001b[0m\u001b[0;34m+\u001b[0m\u001b[0mtrial_label\u001b[0m\u001b[0;34m+\u001b[0m\u001b[0;34m'_noise_start_'\u001b[0m\u001b[0;34m+\u001b[0m\u001b[0mstr\u001b[0m\u001b[0;34m(\u001b[0m\u001b[0;36m0.0\u001b[0m\u001b[0;34m)\u001b[0m\u001b[0;34m+\u001b[0m\u001b[0;34m'_noise_end_'\u001b[0m\u001b[0;34m+\u001b[0m\u001b[0mstr\u001b[0m\u001b[0;34m(\u001b[0m\u001b[0;36m0.0\u001b[0m\u001b[0;34m)\u001b[0m\u001b[0;34m+\u001b[0m\u001b[0;34m'_reg_'\u001b[0m\u001b[0;34m+\u001b[0m\u001b[0mstr\u001b[0m\u001b[0;34m(\u001b[0m\u001b[0;36m0.0\u001b[0m\u001b[0;34m)\u001b[0m\u001b[0;34m+\u001b[0m\u001b[0;34m'_retina_reg_'\u001b[0m\u001b[0;34m+\u001b[0m\u001b[0mstr\u001b[0m\u001b[0;34m(\u001b[0m\u001b[0;36m0.0\u001b[0m\u001b[0;34m)\u001b[0m\u001b[0;34m+\u001b[0m\u001b[0;34m'_retina_hidden_channels_'\u001b[0m\u001b[0;34m+\u001b[0m\u001b[0mstr\u001b[0m\u001b[0;34m(\u001b[0m\u001b[0;36m32\u001b[0m\u001b[0;34m)\u001b[0m\u001b[0;34m+\u001b[0m\u001b[0;34m'_SS_'\u001b[0m\u001b[0;34m+\u001b[0m\u001b[0mstr\u001b[0m\u001b[0;34m(\u001b[0m\u001b[0;36m1\u001b[0m\u001b[0;34m)\u001b[0m\u001b[0;34m+\u001b[0m\u001b[0;34m'_task_'\u001b[0m\u001b[0;34m+\u001b[0m\u001b[0;34m'classification'\u001b[0m\u001b[0;34m+\u001b[0m\u001b[0;34m'_filter_size_'\u001b[0m\u001b[0;34m+\u001b[0m\u001b[0mstr\u001b[0m\u001b[0;34m(\u001b[0m\u001b[0;36m9\u001b[0m\u001b[0;34m)\u001b[0m\u001b[0;34m+\u001b[0m\u001b[0;34m'_retina_layers_'\u001b[0m\u001b[0;34m+\u001b[0m\u001b[0mstr\u001b[0m\u001b[0;34m(\u001b[0m\u001b[0;36m2\u001b[0m\u001b[0;34m)\u001b[0m\u001b[0;34m+\u001b[0m\u001b[0;34m'_vvs_layers'\u001b[0m\u001b[0;34m+\u001b[0m\u001b[0mstr\u001b[0m\u001b[0;34m(\u001b[0m\u001b[0mvvs_layers\u001b[0m\u001b[0;34m)\u001b[0m\u001b[0;34m+\u001b[0m\u001b[0;34m'_bias_'\u001b[0m\u001b[0;34m+\u001b[0m\u001b[0mstr\u001b[0m\u001b[0;34m(\u001b[0m\u001b[0;36m1\u001b[0m\u001b[0;34m)\u001b[0m\u001b[0;34m+\u001b[0m\u001b[0;34m'_actreg_'\u001b[0m\u001b[0;34m+\u001b[0m\u001b[0mstr\u001b[0m\u001b[0;34m(\u001b[0m\u001b[0;36m0.0\u001b[0m\u001b[0;34m)\u001b[0m\u001b[0;34m+\u001b[0m\u001b[0;34m'_retina_out_channels_'\u001b[0m\u001b[0;34m+\u001b[0m\u001b[0mstr\u001b[0m\u001b[0;34m(\u001b[0m\u001b[0mretina_out_width\u001b[0m\u001b[0;34m)\u001b[0m\u001b[0;34m+\u001b[0m\u001b[0;34m'_vvs_width_'\u001b[0m\u001b[0;34m+\u001b[0m\u001b[0mstr\u001b[0m\u001b[0;34m(\u001b[0m\u001b[0;36m32\u001b[0m\u001b[0;34m)\u001b[0m\u001b[0;34m+\u001b[0m\u001b[0;34m'_epochs_'\u001b[0m\u001b[0;34m+\u001b[0m\u001b[0mstr\u001b[0m\u001b[0;34m(\u001b[0m\u001b[0;36m20\u001b[0m\u001b[0;34m)\u001b[0m\u001b[0;34m+\u001b[0m\u001b[0;34m'_VALACC.npy'\u001b[0m\u001b[0;34m)\u001b[0m\u001b[0;34m[\u001b[0m\u001b[0;34m-\u001b[0m\u001b[0;36m1\u001b[0m\u001b[0;34m]\u001b[0m\u001b[0;34m\u001b[0m\u001b[0m\n\u001b[0m\u001b[1;32m     23\u001b[0m             \u001b[0mtrials\u001b[0m\u001b[0;34m.\u001b[0m\u001b[0mappend\u001b[0m\u001b[0;34m(\u001b[0m\u001b[0mval_acc\u001b[0m\u001b[0;34m)\u001b[0m\u001b[0;34m\u001b[0m\u001b[0m\n\u001b[1;32m     24\u001b[0m \u001b[0;34m\u001b[0m\u001b[0m\n",
      "\u001b[0;32m/opt/conda/lib/python3.6/site-packages/numpy/lib/npyio.py\u001b[0m in \u001b[0;36mload\u001b[0;34m(file, mmap_mode, allow_pickle, fix_imports, encoding)\u001b[0m\n\u001b[1;32m    413\u001b[0m         \u001b[0mown_fid\u001b[0m \u001b[0;34m=\u001b[0m \u001b[0;32mFalse\u001b[0m\u001b[0;34m\u001b[0m\u001b[0m\n\u001b[1;32m    414\u001b[0m     \u001b[0;32melse\u001b[0m\u001b[0;34m:\u001b[0m\u001b[0;34m\u001b[0m\u001b[0m\n\u001b[0;32m--> 415\u001b[0;31m         \u001b[0mfid\u001b[0m \u001b[0;34m=\u001b[0m \u001b[0mopen\u001b[0m\u001b[0;34m(\u001b[0m\u001b[0mos_fspath\u001b[0m\u001b[0;34m(\u001b[0m\u001b[0mfile\u001b[0m\u001b[0;34m)\u001b[0m\u001b[0;34m,\u001b[0m \u001b[0;34m\"rb\"\u001b[0m\u001b[0;34m)\u001b[0m\u001b[0;34m\u001b[0m\u001b[0m\n\u001b[0m\u001b[1;32m    416\u001b[0m         \u001b[0mown_fid\u001b[0m \u001b[0;34m=\u001b[0m \u001b[0;32mTrue\u001b[0m\u001b[0;34m\u001b[0m\u001b[0m\n\u001b[1;32m    417\u001b[0m \u001b[0;34m\u001b[0m\u001b[0m\n",
      "\u001b[0;31mFileNotFoundError\u001b[0m: [Errno 2] No such file or directory: 'Logs/SAVED_cifar10_type_Trial1_noise_start_0.0_noise_end_0.0_reg_0.0_retina_reg_0.0_retina_hidden_channels_32_SS_1_task_classification_filter_size_9_retina_layers_2_vvs_layers1_bias_1_actreg_0.0_retina_out_channels_1_vvs_width_32_epochs_20_VALACC.npy'"
     ]
    }
   ],
   "source": [
    "import numpy as np\n",
    "import matplotlib.pyplot as plt\n",
    "\n",
    "plot_line_format_list = []\n",
    "plot_line_format_list.append(('k', '-'))\n",
    "plot_line_format_list.append(([.5, .5, .5], '--'))\n",
    "\n",
    "dict = {}\n",
    "dict_err = {}\n",
    "\n",
    "cur_format = -1\n",
    "\n",
    "for retina_out_width in retina_width_options:\n",
    "    cur_format += 1\n",
    "    dict[retina_out_width] = []\n",
    "    dict_err[retina_out_width] = []\n",
    "\n",
    "    for vvs_layers in vvs_layers_options:\n",
    "        trials = []\n",
    "        for trial in range(1, num_trials+1):\n",
    "            trial_label = 'Trial'+str(trial)\n",
    "            val_acc = np.load('Logs/SAVED_cifar10_type_'+trial_label+'_noise_start_'+str(0.0)+'_noise_end_'+str(0.0)+'_reg_'+str(0.0)+'_retina_reg_'+str(0.0)+'_retina_hidden_channels_'+str(32)+'_SS_'+str(1)+'_task_'+'classification'+'_filter_size_'+str(9)+'_retina_layers_'+str(2)+'_vvs_layers'+str(vvs_layers)+'_bias_'+str(1)+'_actreg_'+str(0.0)+'_retina_out_channels_'+str(retina_out_width)+'_vvs_width_'+str(32)+'_epochs_'+str(20)+'_VALACC.npy')[-1]\n",
    "            trials.append(val_acc)\n",
    "\n",
    "        dict[retina_out_width].append(np.mean(trials))\n",
    "        dict_err[retina_out_width].append(np.std(trials))\n",
    "        print(trials)\n",
    "\n",
    "plt.figure(figsize=(4, 8))\n",
    "for retina_out_width in retina_width_options:\n",
    "    if retina_out_width == 1:\n",
    "        plt.errorbar(range(len(vvs_layers_options)), dict[retina_out_width], dict_err[retina_out_width], c='k', marker='o')\n",
    "    elif retina_out_width == 32:\n",
    "        plt.errorbar(range(len(vvs_layers_options)), dict[retina_out_width], dict_err[retina_out_width], c='gray', marker='o')\n",
    "    else:\n",
    "        plt.errorbar(range(len(vvs_layers_options)), dict[retina_out_width], dict_err[retina_out_width], marker='o')\n",
    "\n",
    "\n",
    "plt.legend([str(w)+' retina output channels' for w in retina_width_options])\n",
    "plt.xlabel('VVS-net Layers')\n",
    "plt.ylabel('Cifar-10 Test Set Performance')\n",
    "plt.xticks(range(len(vvs_layers_options)), vvs_layers_options)\n",
    "\n",
    "plt.show()\n",
    "\n"
   ]
  },
  {
   "cell_type": "code",
   "execution_count": null,
   "metadata": {},
   "outputs": [],
   "source": []
  }
 ],
 "metadata": {
  "kernelspec": {
   "display_name": "Python 3",
   "language": "python",
   "name": "python3"
  },
  "language_info": {
   "codemirror_mode": {
    "name": "ipython",
    "version": 3
   },
   "file_extension": ".py",
   "mimetype": "text/x-python",
   "name": "python",
   "nbconvert_exporter": "python",
   "pygments_lexer": "ipython3",
   "version": "3.6.3"
  }
 },
 "nbformat": 4,
 "nbformat_minor": 2
}
