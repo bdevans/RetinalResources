{
 "cells": [
  {
   "cell_type": "code",
   "execution_count": null,
   "metadata": {},
   "outputs": [],
   "source": [
    "# Computes RF matrices for trained models with specified parameter settings\n",
    "# Saves visualizations (file prefix: VIS), raw numpy matrices (file prefix: FIL), and v1 weights (file prefix: V1W)"
   ]
  },
  {
   "cell_type": "code",
   "execution_count": null,
   "metadata": {},
   "outputs": [],
   "source": [
    "retina_width_options = [1, 32]\n",
    "vvs_layers_options = [0,  2, 4]\n",
    "num_trials = 10"
   ]
  },
  {
   "cell_type": "code",
   "execution_count": null,
   "metadata": {},
   "outputs": [],
   "source": [
    "import os\n",
    "\n",
    "for trial in range(1, 1+num_trials):\n",
    "    trial_label = 'Trial'+str(trial)\n",
    "    for vvs_layers in vvs_layers_options:\n",
    "        for retina_out_width in retina_width_options:\n",
    "            print('Trial ', trial, 'VVS Layers ', vvs_layers, 'Retina Out Width ', retina_out_width)\n",
    "            os.system('python3 VisualizeRFs.py --trial_label '+trial_label+' --vvs_layers '+str(vvs_layers)+' --retina_out_width '+str(retina_out_width)+' --layer_name retina_2')\n",
    "            os.system('python3 VisualizeRFs.py --trial_label '+trial_label+' --vvs_layers '+str(vvs_layers)+' --retina_out_width '+str(retina_out_width)+' --layer_name vvs_1')"
   ]
  },
  {
   "cell_type": "code",
   "execution_count": null,
   "metadata": {},
   "outputs": [],
   "source": [
    "#Run several RF computations from different random initializations, for simple vs. complex cell analysis\n",
    "#Saves all visualizations and numpy matrices with file prefix RIX where X = index of random initialization\n",
    "\n",
    "import os\n",
    "\n",
    "\n",
    "for trial in range(1, 1+num_trials):\n",
    "    trial_label = 'Trial'+str(trial)\n",
    "    for vvs_layers in [2]:\n",
    "        for retina_out_width in [1]:\n",
    "            print('Trial ', trial, 'VVS Layers ', vvs_layers, 'Retina Out Width ', retina_out_width)\n",
    "            os.system('python3 VisualizeRFsRandomInits.py --trial_label '+trial_label+' --vvs_layers '+str(vvs_layers)+' --retina_out_width '+str(retina_out_width)+' --layer_name retina_2')\n",
    "            os.system('python3 VisualizeRFsRandomInits.py --trial_label '+trial_label+' --vvs_layers '+str(vvs_layers)+' --retina_out_width '+str(retina_out_width)+' --layer_name vvs_1')\n",
    "            os.system('python3 VisualizeRFsRandomInits.py --trial_label '+trial_label+' --vvs_layers '+str(vvs_layers)+' --retina_out_width '+str(retina_out_width)+' --layer_name vvs_2')"
   ]
  },
  {
   "cell_type": "code",
   "execution_count": null,
   "metadata": {},
   "outputs": [],
   "source": []
  }
 ],
 "metadata": {
  "kernelspec": {
   "display_name": "Python 3",
   "language": "python",
   "name": "python3"
  },
  "language_info": {
   "codemirror_mode": {
    "name": "ipython",
    "version": 3
   },
   "file_extension": ".py",
   "mimetype": "text/x-python",
   "name": "python",
   "nbconvert_exporter": "python",
   "pygments_lexer": "ipython3",
   "version": "3.6.8"
  }
 },
 "nbformat": 4,
 "nbformat_minor": 2
}
