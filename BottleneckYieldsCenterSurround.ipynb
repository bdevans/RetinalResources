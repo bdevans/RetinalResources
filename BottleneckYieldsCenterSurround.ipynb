{
 "cells": [
  {
   "cell_type": "code",
   "execution_count": null,
   "metadata": {},
   "outputs": [],
   "source": [
    "import os\n",
    "\n",
    "#Train Regular CNN\n",
    "trial_label = 'VANILLA'\n",
    "vvs_layers = 2\n",
    "retina_out_width = 32\n",
    "os.system('python3 TrainModel.py --trial_label '+trial_label+' --vvs_layers '+str(vvs_layers)+' --retina_out_width '+str(retina_out_width))\n",
    "\n"
   ]
  },
  {
   "cell_type": "code",
   "execution_count": null,
   "metadata": {},
   "outputs": [],
   "source": [
    "import os\n",
    "\n",
    "#Train Regular CNN\n",
    "trial_label = 'VANILLA'\n",
    "vvs_layers = 2\n",
    "retina_out_width = 32"
   ]
  },
  {
   "cell_type": "code",
   "execution_count": null,
   "metadata": {},
   "outputs": [],
   "source": [
    "#Visualize Regular CNN layer 2 and 3 RFs\n",
    "#Check saved_visualizations folder for \n",
    "#VIS_SAVED_cifar10_type_VANILLA...retina_2.png (layer 2)\n",
    "#VIS_SAVED_cifar10_type_VANILLA...vvs_1.png  (layer 3)\n",
    "\n",
    "os.system('python3 VisualizeRFs.py --trial_label '+trial_label+' --vvs_layers '+str(vvs_layers)+' --retina_out_width '+str(retina_out_width)+' --layer_name retina_2')\n",
    "os.system('python3 VisualizeRFs.py --trial_label '+trial_label+' --vvs_layers '+str(vvs_layers)+' --retina_out_width '+str(retina_out_width)+' --layer_name vvs_1')"
   ]
  },
  {
   "cell_type": "code",
   "execution_count": null,
   "metadata": {},
   "outputs": [],
   "source": [
    "#Train CNN with retina bottleneck\n",
    "trial_label = 'BOTTLENECK'\n",
    "vvs_layers = 2\n",
    "retina_out_width = 1\n",
    "os.system('python3 TrainModel.py --trial_label '+trial_label+' --vvs_layers '+str(vvs_layers)+' --retina_out_width '+str(retina_out_width))\n"
   ]
  },
  {
   "cell_type": "code",
   "execution_count": null,
   "metadata": {},
   "outputs": [],
   "source": [
    "#Visualize Regular CNN layer 2 (retina) and 3 (V1) RFs\n",
    "#Check saved_visualizations folder\n",
    "#VIS_SAVED_cifar10_type_BOTTLENECK...retina_2.png (retina output, i.e. layer 2)\n",
    "#VIS_SAVED_cifar10_type_BOTTLENECK...vvs_1.png  (V1 layer, i.e. layer 3)\n",
    "os.system('python3 VisualizeRFs.py --trial_label '+trial_label+' --vvs_layers '+str(vvs_layers)+' --retina_out_width '+str(retina_out_width)+' --layer_name retina_2')\n",
    "os.system('python3 VisualizeRFs.py --trial_label '+trial_label+' --vvs_layers '+str(vvs_layers)+' --retina_out_width '+str(retina_out_width)+' --layer_name vvs_1')"
   ]
  },
  {
   "cell_type": "code",
   "execution_count": null,
   "metadata": {},
   "outputs": [],
   "source": [
    "#note that the visualizations will typically show only some of the RFs in the given layer,\n",
    "#as the gradient ascent procedure used to approximate RFs\n",
    "#may get stuck with zero gradient due to ReLU nonlinearities.\n",
    "#Running multiple trials gets around this problem"
   ]
  }
 ],
 "metadata": {
  "kernelspec": {
   "display_name": "Python 3",
   "language": "python",
   "name": "python3"
  },
  "language_info": {
   "codemirror_mode": {
    "name": "ipython",
    "version": 3
   },
   "file_extension": ".py",
   "mimetype": "text/x-python",
   "name": "python",
   "nbconvert_exporter": "python",
   "pygments_lexer": "ipython3",
   "version": "3.6.8"
  }
 },
 "nbformat": 4,
 "nbformat_minor": 2
}
