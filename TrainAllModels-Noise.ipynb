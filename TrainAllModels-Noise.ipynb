{
 "cells": [
  {
   "cell_type": "markdown",
   "metadata": {},
   "source": [
    "# Trains models with specified parameter settings, saved trained models"
   ]
  },
  {
   "cell_type": "code",
   "execution_count": null,
   "metadata": {},
   "outputs": [],
   "source": [
    "retina_width_options = [1, 32]\n",
    "vvs_layers_options = [4]  # [0, 2, 4]\n",
    "num_trials = 10\n",
    "\n",
    "noise_types = ['Salt-and-pepper', 'Additive', 'Single-pixel']\n",
    "noise_conditions = ['Same', 'Diff', 'NoPix']"
   ]
  },
  {
   "cell_type": "code",
   "execution_count": null,
   "metadata": {},
   "outputs": [],
   "source": [
    "import os\n",
    "\n",
    "import numpy as np\n",
    "\n",
    "# valacc ={'1': np.zeros((len(noise_types), len(noise_conditions), len(num_trials))),\n",
    "#          '32': np.zeros((len(noise_types), len(noise_conditions), len(num_trials)))}\n",
    "\n",
    "data_set = 'pixel'\n",
    "\n",
    "for trial in range(1, 1+num_trials):\n",
    "    for noise_type in noise_types:\n",
    "        for noise_cond in noise_conditions:\n",
    "            trial_label = f\"{noise_type}_{noise_cond}_{trial}\"  # 'Trial'+str(trial)\n",
    "            for vvs_layers in vvs_layers_options:\n",
    "                for retina_out_width in retina_width_options:\n",
    "                    print(f\"Type {noise_type} Condition {noise_cond} Trial {trial} \"\n",
    "                          f\"VVS Layers {vvs_layers} Retina Out Width {retina_out_width}\")\n",
    "                    args = f\"--data_set {data_set} --trial_label {trial_label} --vvs_layers {vvs_layers} --retina_out_width {retina_out_width}\"\n",
    "                    os.system(f'python3 TrainModel.py {args}')"
   ]
  },
  {
   "cell_type": "code",
   "execution_count": null,
   "metadata": {},
   "outputs": [],
   "source": [
    "# Load accuracy scores and plot\n",
    "\n",
    "# Easiest to just copy/paste from the script output\n",
    "# model_name = (\n",
    "#     f\"cifar10_type_{trial_label}_noise_start_{noise_start}\"\n",
    "#     f\"_noise_end_{noise_end}_reg_{reg}_retina_reg_{retina_out_weight_reg}\"\n",
    "#     f\"retina_hidden_channels_{retina_hidden_channels}_SS_{retina_out_stride}\"\n",
    "#     f\"_task_{task}_filter_size_{filter_size}_retina_layers_{retina_layers}\"\n",
    "#     f\"_vvs_layers{vvs_layers}_bias_{use_b}_actreg_{actreg}\"\n",
    "#     f\"_retina_out_channels_{retina_out_width}_vvs_width_{vvs_width}\"\n",
    "#     f\"_epochs_{epochs}\"\n",
    "# )\n",
    "model_name = \"\"\n",
    "\n",
    "valacc_scores = np.load(os.path.join('Logs', f'SAVED_{model_name}_VALACC.npy'))  # hist.history['val_acc']\n",
    "acc_scores = np.load(os.path.join('Logs', f'SAVED_{model_name}_ACC.npy'))  # hist.history['acc']"
   ]
  },
  {
   "cell_type": "code",
   "execution_count": null,
   "metadata": {},
   "outputs": [],
   "source": [
    "import tqdm"
   ]
  }
 ],
 "metadata": {
  "kernelspec": {
   "display_name": "Python 3",
   "language": "python",
   "name": "python3"
  },
  "language_info": {
   "codemirror_mode": {
    "name": "ipython",
    "version": 3
   },
   "file_extension": ".py",
   "mimetype": "text/x-python",
   "name": "python",
   "nbconvert_exporter": "python",
   "pygments_lexer": "ipython3",
   "version": "3.6.8"
  }
 },
 "nbformat": 4,
 "nbformat_minor": 2
}
