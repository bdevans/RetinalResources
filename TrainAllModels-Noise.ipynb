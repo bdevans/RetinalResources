{
 "cells": [
  {
   "cell_type": "code",
   "execution_count": null,
   "metadata": {},
   "outputs": [],
   "source": [
    "# Trains models with specified parameter settings, saved trained models"
   ]
  },
  {
   "cell_type": "code",
   "execution_count": null,
   "metadata": {},
   "outputs": [],
   "source": [
    "retina_width_options = [1, 32]\n",
    "vvs_layers_options = [4]  # [0, 2, 4]\n",
    "num_trials = 10\n",
    "\n",
    "noise_types = ['Salt-and-pepper', 'Additive', 'Single-pixel']\n",
    "noise_conditions = ['Same', 'Diff', 'NoPix']"
   ]
  },
  {
   "cell_type": "code",
   "execution_count": null,
   "metadata": {},
   "outputs": [],
   "source": [
    "import os\n",
    "\n",
    "import numpy as np\n",
    "\n",
    "# valacc ={'1': np.zeros((len(noise_types), len(noise_conditions), len(num_trials))),\n",
    "#          '32': np.zeros((len(noise_types), len(noise_conditions), len(num_trials)))}\n",
    "\n",
    "data_set = 'pixel'\n",
    "\n",
    "for noise_type in noise_types:\n",
    "    for noise_cond in noise_conditions:\n",
    "        for trial in range(1, 1+num_trials):\n",
    "            trial_label = f\"{noise_type}_{noise_cond}_{trial}\"  # 'Trial'+str(trial)\n",
    "            for vvs_layers in vvs_layers_options:\n",
    "                for retina_out_width in retina_width_options:\n",
    "                    print(f\"Type {noise_type} Condition {noise_cond} Trial {trial} \"\n",
    "                          f\"VVS Layers {vvs_layers} Retina Out Width {retina_out_width}\")\n",
    "                    args = f\"--data_set {data_set} --trial_label {trial_label} --vvs_layers {vvs_layers} --retina_out_width {retina_out_width}\"\n",
    "                    os.system(f'python3 TrainModel.py {args}')"
   ]
  },
  {
   "cell_type": "code",
   "execution_count": null,
   "metadata": {},
   "outputs": [],
   "source": [
    "# Load accuracy scores and plot\n",
    "\n",
    "# Easiest to just copy/paste from the script output\n",
    "# model_name = (\n",
    "#     f\"cifar10_type_{trial_label}_noise_start_{noise_start}\"\n",
    "#     f\"_noise_end_{noise_end}_reg_{reg}_retina_reg_{retina_out_weight_reg}\"\n",
    "#     f\"retina_hidden_channels_{retina_hidden_channels}_SS_{retina_out_stride}\"\n",
    "#     f\"_task_{task}_filter_size_{filter_size}_retina_layers_{retina_layers}\"\n",
    "#     f\"_vvs_layers{vvs_layers}_bias_{use_b}_actreg_{actreg}\"\n",
    "#     f\"_retina_out_channels_{retina_out_width}_vvs_width_{vvs_width}\"\n",
    "#     f\"_epochs_{epochs}\"\n",
    "# )\n",
    "model_name = \"\"\n",
    "\n",
    "valacc_scores = np.load(os.path.join('Logs', f'SAVED_{model_name}_VALACC.npy'))  # hist.history['val_acc']\n",
    "acc_scores = np.load(os.path.join('Logs', f'SAVED_{model_name}_ACC.npy'))  # hist.history['acc']"
   ]
  },
  {
   "cell_type": "code",
   "execution_count": null,
   "metadata": {},
   "outputs": [],
   "source": [
    "import tqdm"
   ]
  },
  {
   "cell_type": "code",
   "execution_count": null,
   "metadata": {},
   "outputs": [],
   "source": [
    "from matplotlib import pyplot as plt\n",
    "\n",
    "plt.imread('/storage/data/')"
   ]
  },
  {
   "cell_type": "code",
   "execution_count": null,
   "metadata": {},
   "outputs": [],
   "source": [
    "import numpy as np"
   ]
  },
  {
   "cell_type": "code",
   "execution_count": null,
   "metadata": {},
   "outputs": [],
   "source": [
    "import os\n",
    "\n",
    "from matplotlib import pyplot as plt\n",
    "import numpy as np\n",
    "from tqdm import tqdm # tqdm_notebook\n",
    "\n",
    "data_root = '/workspace/data/pixel'\n",
    "\n",
    "noise_type = 'Salt-and-pepper'\n",
    "noise_cond = 'Same'\n",
    "trial = 1\n",
    "\n",
    "trial_label = f\"{noise_type}_{noise_cond}_{trial}\"\n",
    "\n",
    "(noise_type, noise_cond, trial) = trial_label.split(\"_\")\n",
    "\n",
    "if noise_type == 'Salt-and-pepper':\n",
    "    data_path = os.path.join(data_root, 'salt_n_pepper', 'set_1')\n",
    "elif noise_type == 'Additive':\n",
    "    data_path = os.path.join(data_root, 'uniform', 'set_1')\n",
    "elif noise_type == 'Single-pixel':\n",
    "    data_path = os.path.join(data_root, 'single_pixel', 'set_1')\n",
    "else:\n",
    "    sys.exit(f\"Unknown noise type requested: {noise_type}\")\n",
    "\n",
    "train_path = os.path.join(data_path, 'train')\n",
    "test_path = os.path.join(data_path, f\"test_{noise_cond.lower()}\")\n",
    "\n",
    "# categories = sorted(os.listdir(train_path))\n",
    "\n",
    "# train_images = {}\n",
    "# for cat in categories:\n",
    "# #     train_images[cat] = sorted([os.path.join(train_path, cat, file) for file in os.listdir(os.path.join(train_path, cat)) if os.path.isfile(file)])\n",
    "\n",
    "#     train_images[cat] = sorted(os.listdir(os.path.join(train_path, cat)))\n",
    "\n",
    "def load_images(path):\n",
    "\n",
    "    image_set = {}\n",
    "    for root, dirs, files in os.walk(path):\n",
    "        if root == path:\n",
    "            categories = sorted(dirs)\n",
    "            image_set = {cat: [] for cat in categories}\n",
    "        else:\n",
    "            image_set[os.path.basename(root)] = sorted(files)\n",
    "\n",
    "    n_cat_images = {cat: len(files) for (cat, files) in image_set.items()}\n",
    "    n_images = sum(n_cat_images.values())\n",
    "    image_dims = plt.imread(os.path.join(path, categories[0], image_set[categories[0]][0])).shape\n",
    "\n",
    "    X = np.zeros((n_images, *image_dims), dtype='float32')\n",
    "    y = np.zeros((n_images, len(categories)), dtype=int)\n",
    "#     y = np.zeros(n_images, dtype=int)\n",
    "    \n",
    "#     for cat, files in tqdm_notebook(image_set.items()):\n",
    "    for c, (cat, files) in enumerate(tqdm(image_set.items(), desc=path)):\n",
    "#     for cat, files in image_set.items():\n",
    "        for i, image in enumerate(files):\n",
    "            X[i] = plt.imread(os.path.join(path, cat, image))\n",
    "        y[c*n_cat_images[cat]:(c+1)*n_cat_images[cat], c] = True\n",
    "\n",
    "    return image_set, X, y\n",
    "\n",
    "train_images, x_train, y_train = load_images(train_path)\n",
    "test_images, x_test, y_test = load_images(test_path)\n",
    "\n",
    "# train_images = {}\n",
    "# for root, dirs, files in os.walk(train_path):\n",
    "# #     print(root)\n",
    "# #     print(dirs)\n",
    "#     if root == train_path:\n",
    "#         categories = sorted(dirs)\n",
    "#         train_images = {cat: [] for cat in categories}\n",
    "#     else:\n",
    "#         train_images[os.path.basename(root)] = sorted(files)\n",
    "# #     if root == os.path.join(train_path, 'airplane'):\n",
    "# #         print(files)\n",
    "# #     for cat in dirs:\n",
    "# #         if cat != '.':\n",
    "# #             categories.append(cat)\n",
    "\n",
    "# n_cat_images = {cat: len(files) for (cat, files) in train_images.items()}\n",
    "# n_train_images = sum(n_cat_images.values())\n",
    "# image_dims = plt.imread(os.path.join(train_path, categories[0], train_images[categories[0]][0])).shape\n",
    "\n",
    "# x_train = np.zeros((n_train_images, *image_dims), dtype='float32')\n",
    "\n",
    "# for cat, files in train_images.items():\n",
    "#     for i, image in enumerate(files):\n",
    "#         x_train[i] = plt.imread(os.path.join(train_path, cat, image))\n",
    "    \n",
    "# categories\n",
    "# # train_images"
   ]
  },
  {
   "cell_type": "code",
   "execution_count": null,
   "metadata": {},
   "outputs": [],
   "source": [
    "x_train.shape"
   ]
  },
  {
   "cell_type": "code",
   "execution_count": null,
   "metadata": {},
   "outputs": [],
   "source": [
    "y_train"
   ]
  },
  {
   "cell_type": "code",
   "execution_count": null,
   "metadata": {},
   "outputs": [],
   "source": [
    "x_test.shape"
   ]
  },
  {
   "cell_type": "code",
   "execution_count": null,
   "metadata": {},
   "outputs": [],
   "source": [
    "x_train[0]"
   ]
  },
  {
   "cell_type": "code",
   "execution_count": null,
   "metadata": {},
   "outputs": [],
   "source": [
    "train_path"
   ]
  },
  {
   "cell_type": "code",
   "execution_count": null,
   "metadata": {},
   "outputs": [],
   "source": [
    "!pwd"
   ]
  },
  {
   "cell_type": "code",
   "execution_count": null,
   "metadata": {},
   "outputs": [],
   "source": [
    "!ls /workspace/data/salt_n_pepper/set_1/train"
   ]
  },
  {
   "cell_type": "code",
   "execution_count": null,
   "metadata": {},
   "outputs": [],
   "source": [
    "from matplotlib import pyplot as plt\n",
    "\n",
    "pic = plt.imread('/workspace/data/pixel/salt_n_pepper/set_1/train/airplane/aeroplane_s_000004.png')\n",
    "pic.shape"
   ]
  },
  {
   "cell_type": "code",
   "execution_count": null,
   "metadata": {},
   "outputs": [],
   "source": [
    "[stuff for stuff in os.scandir(train_path)]"
   ]
  },
  {
   "cell_type": "code",
   "execution_count": null,
   "metadata": {},
   "outputs": [],
   "source": [
    "sorted(os.listdir(os.path.join(data_path, 'train')))"
   ]
  },
  {
   "cell_type": "code",
   "execution_count": null,
   "metadata": {},
   "outputs": [],
   "source": [
    "train_images"
   ]
  },
  {
   "cell_type": "code",
   "execution_count": null,
   "metadata": {},
   "outputs": [],
   "source": [
    "categories"
   ]
  },
  {
   "cell_type": "code",
   "execution_count": null,
   "metadata": {},
   "outputs": [],
   "source": [
    "os.listdir(os.path.join(train_path, cat))"
   ]
  },
  {
   "cell_type": "code",
   "execution_count": null,
   "metadata": {},
   "outputs": [],
   "source": []
  }
 ],
 "metadata": {
  "kernelspec": {
   "display_name": "Python 3",
   "language": "python",
   "name": "python3"
  },
  "language_info": {
   "codemirror_mode": {
    "name": "ipython",
    "version": 3
   },
   "file_extension": ".py",
   "mimetype": "text/x-python",
   "name": "python",
   "nbconvert_exporter": "python",
   "pygments_lexer": "ipython3",
   "version": "3.6.8"
  }
 },
 "nbformat": 4,
 "nbformat_minor": 2
}
